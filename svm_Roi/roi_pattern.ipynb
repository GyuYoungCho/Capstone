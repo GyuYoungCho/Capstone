{
 "cells": [
  {
   "cell_type": "code",
   "execution_count": 1,
   "metadata": {},
   "outputs": [
    {
     "name": "stderr",
     "output_type": "stream",
     "text": [
      "C:\\Users\\Gyu\\Anaconda3\\envs\\py37\\lib\\site-packages\\numpy\\_distributor_init.py:32: UserWarning: loaded more than 1 DLL from .libs:\n",
      "C:\\Users\\Gyu\\Anaconda3\\envs\\py37\\lib\\site-packages\\numpy\\.libs\\libopenblas.PYQHXLVVQ7VESDPUVUADXEVJOBGHJPAY.gfortran-win_amd64.dll\n",
      "C:\\Users\\Gyu\\Anaconda3\\envs\\py37\\lib\\site-packages\\numpy\\.libs\\libopenblas.TXA6YQSD3GCQQC22GEQ54J2UDCXDXHWN.gfortran-win_amd64.dll\n",
      "  stacklevel=1)\n"
     ]
    }
   ],
   "source": [
    "import numpy as np\n",
    "from skimage import io\n",
    "from collections import defaultdict\n",
    "import cv2\n",
    "import pandas as pd\n",
    "import os\n",
    "from tqdm import tqdm\n",
    "import math\n",
    "import warnings\n",
    "warnings.filterwarnings('ignore')\n",
    "\n",
    "with open('image.txt','r') as f:\n",
    "    filename = f.readlines()\n",
    "\n",
    "filename = [_.split('\\n')[0] for _ in filename]\n",
    "\n",
    "def getline(img):\n",
    "    imgray = cv2.cvtColor(img, cv2.COLOR_BGR2GRAY)\n",
    "\n",
    "    kernel = cv2.getStructuringElement(cv2.MORPH_ELLIPSE, (3, 3))\n",
    "    grad = cv2.morphologyEx(imgray, cv2.MORPH_GRADIENT, kernel)\n",
    "\n",
    "    _, bw = cv2.threshold(grad, 0.0, 255.0, cv2.THRESH_BINARY | cv2.THRESH_OTSU)\n",
    "    kernel = cv2.getStructuringElement(cv2.MORPH_RECT, (3, 1))\n",
    "    connected = cv2.morphologyEx(bw, cv2.MORPH_CLOSE, kernel)\n",
    "    # using RETR_EXTERNAL instead of RETR_CCOMP\n",
    "    contours, hierarchy = cv2.findContours(connected.copy(), cv2.RETR_EXTERNAL, cv2.CHAIN_APPROX_NONE)\n",
    "\n",
    "    mask = np.zeros(bw.shape, dtype=np.uint8)\n",
    "    for idx in range(len(contours)):\n",
    "        x, y, w, h = cv2.boundingRect(contours[idx])\n",
    "        mask[y:y+h, x:x+w] = 0\n",
    "        cv2.drawContours(mask, contours, idx, (255, 255, 255), -1)\n",
    "        r = float(cv2.countNonZero(mask[y:y+h, x:x+w])) / (w * h)\n",
    "        if r > 0.2 and w > 8 and h > 8:\n",
    "            mask[y:y+h, x:x+w] = 255\n",
    "\n",
    "    dst = cv2.inpaint(img, mask, 3, cv2.INPAINT_NS)\n",
    "    return dst , mask\n",
    "\n",
    "\n",
    "def segment_by_angle_kmeans(lines, k=2, **kwargs):\n",
    "    \"\"\"Groups lines based on angle with k-means.\n",
    "\n",
    "    Uses k-means on the coordinates of the angle on the unit circle \n",
    "    to segment `k` angles inside `lines`.\n",
    "    \"\"\"\n",
    "\n",
    "    # Define criteria = (type, max_iter, epsilon)\n",
    "    default_criteria_type = cv2.TERM_CRITERIA_EPS + cv2.TERM_CRITERIA_MAX_ITER\n",
    "    criteria = kwargs.get('criteria', (default_criteria_type, 10, 1.0))\n",
    "    flags = kwargs.get('flags', cv2.KMEANS_RANDOM_CENTERS)\n",
    "    attempts = kwargs.get('attempts', 10)\n",
    "\n",
    "    # returns angles in [0, pi] in radians\n",
    "    angles = np.array([line[0][1] for line in lines])\n",
    "    # multiply the angles by two and find coordinates of that angle\n",
    "    pts = np.array([[np.cos(2*angle), np.sin(2*angle)]\n",
    "                    for angle in angles], dtype=np.float32)\n",
    "\n",
    "    # run kmeans on the coords\n",
    "    labels, centers = cv2.kmeans(pts, k, None, criteria, attempts, flags)[1:]\n",
    "    labels = labels.reshape(-1)  # transpose to row vec\n",
    "\n",
    "    # segment lines based on their kmeans label\n",
    "    segmented = defaultdict(list)\n",
    "    for i, line in zip(range(len(lines)), lines):\n",
    "        segmented[labels[i]].append(line)\n",
    "    segmented = list(segmented.values())\n",
    "    return segmented\n",
    "\n",
    "def intersection(line1, line2):\n",
    "    \"\"\"Finds the intersection of two lines given in Hesse normal form.\n",
    "\n",
    "    Returns closest integer pixel locations.\n",
    "    See https://stackoverflow.com/a/383527/5087436\n",
    "    \"\"\"\n",
    "    rho1, theta1 = line1[0]\n",
    "    rho2, theta2 = line2[0]\n",
    "    A = np.array([\n",
    "        [np.cos(theta1), np.sin(theta1)],\n",
    "        [np.cos(theta2), np.sin(theta2)]\n",
    "    ])\n",
    "    b = np.array([[rho1], [rho2]])\n",
    "    x0, y0 = np.linalg.lstsq(A, b)[0]\n",
    "    x0, y0 = int(np.round(x0)), int(np.round(y0))\n",
    "    return [[x0, y0]]\n",
    "\n",
    "\n",
    "def segmented_intersections(lines):\n",
    "    \"\"\"Finds the intersections between groups of lines.\"\"\"\n",
    "\n",
    "    intersections = []\n",
    "    for i, group in enumerate(lines[:-1]):\n",
    "        for next_group in lines[i+1:]:\n",
    "            for line1 in group:\n",
    "                for line2 in next_group:\n",
    "                    intersections.append(intersection(line1, line2)) \n",
    "\n",
    "    return intersections\n"
   ]
  },
  {
   "cell_type": "code",
   "execution_count": 2,
   "metadata": {},
   "outputs": [],
   "source": [
    "all_data = pd.DataFrame()\n",
    "\n",
    "for _ in os.listdir('csv'):\n",
    "    da = pd.read_csv('csv/' + _ ,encoding='CP949')\n",
    "    all_data = pd.concat([all_data,da])\n",
    "    \n",
    "all_data.reset_index(drop=True, inplace=True)\n",
    "\n",
    "all_data1 = all_data.copy()\n",
    "other = all_data1[all_data1['cctvname'].str.contains('중부3터널|길마재교|동탄금곡교|광교터널|동시흥|판교외부1|공릉천교|남광명|기흥동탄|금이3|판교나들목|청계산2-3터널|청계산3-4터널') & (all_data1['강수15']>0)]\n",
    "all_data1 = all_data1[all_data1['cctvname'].str.contains('서울문산선|부곡|독정2|논현교|포도|만정교|신길교|청사4R\\(상행\\)|청사입구|하산곡|상적|상산곡|금현|갈매|강문|현곡|음섬|원곡|파장육교|안성분기|장덕교|고덕|과천대로|갈현|별양로|과천성당|남양|학익|제2경인시점|총신교|민마루|중랑|제2영동|광주분기|금곡교|조암|죽전|부천|도당|부평|강일|미사|덕소1교|삼패|선암|군포|둔대|반월|원지동|시화|화정|원동|상리교|이목동|대공원|문원|남태령|굴다리|부림교|청사IC|신월|월문1교|통신부대|월문1터널|평택화성선|남구리|제2외곽순환선|외동천교|달래내|서해안선|기흥|오산|제2순환선|인천국제공항|용인서울선|안산천|안양성남선|광명|수도권제1순환선|금천|경마장|금토분기점1|졸음|정류장|부산|동탄|터널|영업소|공세육교|판교|도당|청천교|효성|하차도|우정병원|인덕원|남구리|우면산|용암천|노하1교|고잔|고가교|조남|홍원|동판교|삼막|여수|광교|군자|동백교|구성|동수원|기흥교|서창|신갈|거모|야목|창현|화도|양지|용인|월곶|하강교|신천|은행|안현분기점1|일직|광지원교|초월|하남|안녕|청북|해창교|평택분기|진위천|토진2교|청룡교|안화2교|궁리|고념1교|용포1교|주곡1교|시길천교|장덕1교|송산마도|서평택|석교교|군자|초월|동서울|늑현|진우|선동|학운|궁평|석수|문학|남인천|남동|서안산|강릉|안성휴게|부곡1교|매송휴게|목감') == 0]\n",
    "all_data1 = all_data1[all_data1['강수15'] < 5]\n",
    "all_data1.loc[all_data1['강수15'] >2.5,'강수15'] = 2.5\n",
    "dense = all_data1[(all_data1['fog'] == 'Dense')]\n",
    "all_data1 = all_data1[(all_data1['fog'] != 'Dense')]\n",
    "rain = all_data1[all_data1['강수15'] > 0.5]\n",
    "all_data1 = all_data1[all_data1['강수15'] <= 0.5]\n",
    "\n",
    "rain1 = all_data1[all_data1['강수15'] == 0.5]\n",
    "all_data1 = all_data1[all_data1['강수15'] == 0]\n",
    "all_data2 = all_data1.sample(600,random_state=0)\n",
    "\n",
    "total = pd.concat([dense, rain, rain1, other, all_data2],axis=0).reset_index(drop=True)\n",
    "total.loc[total['강수15'] >2.5,'강수15'] = 2.5"
   ]
  },
  {
   "cell_type": "code",
   "execution_count": 5,
   "metadata": {},
   "outputs": [
    {
     "data": {
      "text/plain": [
       "array(['[경부선] 금토분기점2', '[경부선] 백현', '[영동선] 북수원', '[영동선] 파장동',\n",
       "       '[영동선] 안산분기점', '[영동선] 안산', '[영동선] 양상교', '[영동선] 안산2',\n",
       "       '[평택시흥선] 고정2교', '[평택시흥선] 공룡알화석지', '[평택시흥선] 신길천교', '[경부선] 수원',\n",
       "       '[경부선] 남사육교', '[영동선] 조원교', '[경부선] 산하', '[영동선] 마성', '[영동선] 마성3',\n",
       "       '[영동선] 마성1', '[영동선] 마성2', '[평택제천선] 송탄', '[평택시흥선] 청원교',\n",
       "       '[평택시흥선] 정든교', '[평택시흥선] 수촌1교', '[평택시흥선] 금의1육교', '[과천시] 청사4R(하행)',\n",
       "       '[과천시] 소방서3R(하행)', '[과천시] 시청4R(소방서3R(경찰서))', '[과천시] 도서관3R(중앙로)',\n",
       "       '[중부선] 천현', '[구리포천선] 별내2교', '[구리포천선] 남별내IC', '[경부선] 서초',\n",
       "       '[경부선] 양재', '[구리포천선] 옥정IC', '[구리포천선] 양주IC', '[구리포천선] 별내휴게소',\n",
       "       '[평택시흥선] 남안산', '[제2경인선] 안현분기점2', '[영동선] 논현육교', '[경인선] 서운분기점2',\n",
       "       '[경인선] 가정동', '[영동선] 추계육교', '[중부선] 곤지암', '[중부선] 광주', '[중부선] 광지원2교',\n",
       "       '[중부선] 산곡분기점', '[제2중부선] 천진암교', '[제2중부선] 하번천', '[제2중부선] 엄미교',\n",
       "       '[서울양양선] 차산리', '[구리포천선] 동의정부IC북측', '[구리포천선] 의정부휴게소(구리)',\n",
       "       '[구리포천선] 민락IC'], dtype=object)"
      ]
     },
     "execution_count": 5,
     "metadata": {},
     "output_type": "execute_result"
    }
   ],
   "source": [
    "all_data1['cctvname'].unique()"
   ]
  },
  {
   "cell_type": "code",
   "execution_count": 6,
   "metadata": {},
   "outputs": [
    {
     "data": {
      "image/png": "[encoded data removed]",
      "text/plain": [
       "<Figure size 720x720 with 4 Axes>"
      ]
     },
     "metadata": {
      "needs_background": "light"
     },
     "output_type": "display_data"
    }
   ],
   "source": [
    "import seaborn as sns\n",
    "import matplotlib.pyplot as plt\n",
    "from matplotlib import font_manager, rc\n",
    "font_name = font_manager.FontProperties(fname=\"c:/Windows/Fonts/malgun.ttf\").get_name()\n",
    "\n",
    "rc('font', family=font_name)\n",
    "label_col = all_data.columns[3:7]\n",
    "plt.figure(figsize = (10,10))\n",
    "for _ , i in enumerate(label_col):\n",
    "    plt.subplot(2,2, _+1)\n",
    "    sns.countplot(x = i ,data=total)\n",
    "    plt.title(i)\n",
    "    plt.xlabel('')"
   ]
  },
  {
   "cell_type": "code",
   "execution_count": 16,
   "metadata": {},
   "outputs": [
    {
     "data": {
      "text/html": [
       "<div>\n",
       "<style scoped>\n",
       "    .dataframe tbody tr th:only-of-type {\n",
       "        vertical-align: middle;\n",
       "    }\n",
       "\n",
       "    .dataframe tbody tr th {\n",
       "        vertical-align: top;\n",
       "    }\n",
       "\n",
       "    .dataframe thead th {\n",
       "        text-align: right;\n",
       "    }\n",
       "</style>\n",
       "<table border=\"1\" class=\"dataframe\">\n",
       "  <thead>\n",
       "    <tr style=\"text-align: right;\">\n",
       "      <th></th>\n",
       "      <th>cctvname</th>\n",
       "      <th>coordy</th>\n",
       "      <th>coordx</th>\n",
       "      <th>강수15</th>\n",
       "      <th>fog</th>\n",
       "      <th>weather</th>\n",
       "      <th>sunny</th>\n",
       "      <th>AWS distance</th>\n",
       "      <th>ASOS distance</th>\n",
       "      <th>cctvdir</th>\n",
       "    </tr>\n",
       "  </thead>\n",
       "  <tbody>\n",
       "    <tr>\n",
       "      <th>0</th>\n",
       "      <td>[영동선] 추계육교</td>\n",
       "      <td>37.248890</td>\n",
       "      <td>127.32417</td>\n",
       "      <td>0.0</td>\n",
       "      <td>Dense</td>\n",
       "      <td>안개</td>\n",
       "      <td>0</td>\n",
       "      <td>0.001469</td>\n",
       "      <td>0.002239</td>\n",
       "      <td>video/2020102707/[영동선] 추계육교.mp4</td>\n",
       "    </tr>\n",
       "    <tr>\n",
       "      <th>1</th>\n",
       "      <td>[중부선] 곤지암</td>\n",
       "      <td>37.352330</td>\n",
       "      <td>127.32107</td>\n",
       "      <td>0.0</td>\n",
       "      <td>Dense</td>\n",
       "      <td>안개</td>\n",
       "      <td>0</td>\n",
       "      <td>0.001631</td>\n",
       "      <td>0.002740</td>\n",
       "      <td>video/2020102707/[중부선] 곤지암.mp4</td>\n",
       "    </tr>\n",
       "    <tr>\n",
       "      <th>2</th>\n",
       "      <td>[중부선] 광주</td>\n",
       "      <td>37.448097</td>\n",
       "      <td>127.26929</td>\n",
       "      <td>0.0</td>\n",
       "      <td>Dense</td>\n",
       "      <td>안개</td>\n",
       "      <td>0</td>\n",
       "      <td>0.000264</td>\n",
       "      <td>0.003199</td>\n",
       "      <td>video/2020102707/[중부선] 광주.mp4</td>\n",
       "    </tr>\n",
       "    <tr>\n",
       "      <th>3</th>\n",
       "      <td>[중부선] 광지원2교</td>\n",
       "      <td>37.453230</td>\n",
       "      <td>127.25556</td>\n",
       "      <td>0.0</td>\n",
       "      <td>Dense</td>\n",
       "      <td>안개</td>\n",
       "      <td>0</td>\n",
       "      <td>0.000317</td>\n",
       "      <td>0.003367</td>\n",
       "      <td>video/2020102707/[중부선] 광지원2교.mp4</td>\n",
       "    </tr>\n",
       "    <tr>\n",
       "      <th>4</th>\n",
       "      <td>[중부선] 산곡분기점</td>\n",
       "      <td>37.479763</td>\n",
       "      <td>127.24332</td>\n",
       "      <td>0.0</td>\n",
       "      <td>Dense</td>\n",
       "      <td>안개</td>\n",
       "      <td>0</td>\n",
       "      <td>0.000807</td>\n",
       "      <td>0.003482</td>\n",
       "      <td>video/2020102707/[중부선] 산곡분기점.mp4</td>\n",
       "    </tr>\n",
       "  </tbody>\n",
       "</table>\n",
       "</div>"
      ],
      "text/plain": [
       "      cctvname     coordy     coordx  강수15    fog weather  sunny  \\\n",
       "0   [영동선] 추계육교  37.248890  127.32417   0.0  Dense      안개      0   \n",
       "1    [중부선] 곤지암  37.352330  127.32107   0.0  Dense      안개      0   \n",
       "2     [중부선] 광주  37.448097  127.26929   0.0  Dense      안개      0   \n",
       "3  [중부선] 광지원2교  37.453230  127.25556   0.0  Dense      안개      0   \n",
       "4  [중부선] 산곡분기점  37.479763  127.24332   0.0  Dense      안개      0   \n",
       "\n",
       "   AWS distance  ASOS distance                           cctvdir  \n",
       "0      0.001469       0.002239   video/2020102707/[영동선] 추계육교.mp4  \n",
       "1      0.001631       0.002740    video/2020102707/[중부선] 곤지암.mp4  \n",
       "2      0.000264       0.003199     video/2020102707/[중부선] 광주.mp4  \n",
       "3      0.000317       0.003367  video/2020102707/[중부선] 광지원2교.mp4  \n",
       "4      0.000807       0.003482  video/2020102707/[중부선] 산곡분기점.mp4  "
      ]
     },
     "execution_count": 16,
     "metadata": {},
     "output_type": "execute_result"
    }
   ],
   "source": [
    "total.head()"
   ]
  },
  {
   "cell_type": "code",
   "execution_count": 7,
   "metadata": {},
   "outputs": [
    {
     "data": {
      "text/plain": [
       "0.0    638\n",
       "0.5     56\n",
       "2.5     18\n",
       "1.0     18\n",
       "1.5      8\n",
       "2.0      8\n",
       "Name: 강수15, dtype: int64"
      ]
     },
     "execution_count": 7,
     "metadata": {},
     "output_type": "execute_result"
    }
   ],
   "source": [
    "total['강수15'].value_counts()"
   ]
  },
  {
   "cell_type": "code",
   "execution_count": 112,
   "metadata": {},
   "outputs": [
    {
     "name": "stderr",
     "output_type": "stream",
     "text": [
      "100%|████████████████████████████████████████████████████████████████████████████████| 746/746 [16:58<00:00,  1.37s/it]\n"
     ]
    }
   ],
   "source": [
    "from sklearn.cluster import KMeans\n",
    "K = 4\n",
    "thresh_type = cv2.THRESH_BINARY_INV\n",
    "criteria = (cv2.TERM_CRITERIA_EPS + cv2.TERM_CRITERIA_MAX_ITER, 100, 0.1)\n",
    "video = []\n",
    "label = []\n",
    "roi6 = []\n",
    "\n",
    "for i in tqdm(range(total.shape[0])):\n",
    "    count = 0\n",
    "    pattern = []\n",
    "    rr = []\n",
    "    videoFile = total['cctvdir'][i]\n",
    "    if not os.path.isfile(videoFile):\n",
    "        continue\n",
    "\n",
    "    cap = cv2.VideoCapture(videoFile)\n",
    "    frameRate = cap.get(5)\n",
    "    while(cap.isOpened()):\n",
    "        frameId = cap.get(1) #current frame number\n",
    "        ret, frame = cap.read()\n",
    "        if (ret != True):\n",
    "            break        \n",
    "        if (frameId % math.floor(frameRate/12) == 0):\n",
    "            if count == 0:\n",
    "                img, mask = getline(frame)\n",
    "                Z = cv2.cvtColor(img, cv2.COLOR_BGR2RGB)\n",
    "                Z = Z.reshape((-1,3))\n",
    "\n",
    "                Z = np.float32(Z)\n",
    "\n",
    "                ret,seg_label,center=cv2.kmeans(Z,K,None,criteria,10,cv2.KMEANS_PP_CENTERS)\n",
    "\n",
    "                center = np.uint8(center)\n",
    "\n",
    "                res = center[seg_label.flatten()]\n",
    "                result_image = res.reshape((img.shape))\n",
    "                dst1 = result_image.copy()\n",
    "                imgray = cv2.cvtColor(dst1, cv2.COLOR_RGB2GRAY)\n",
    "                blur = cv2.medianBlur(imgray, 3)\n",
    "                adapt_type = cv2.ADAPTIVE_THRESH_GAUSSIAN_C\n",
    "                bin_img = cv2.adaptiveThreshold(blur, 255, adapt_type, thresh_type, 7, 2)\n",
    "\n",
    "                lines = None\n",
    "                hough_threshold = 200\n",
    "\n",
    "                while(not np.all(np.not_equal(lines, None))):\n",
    "                    lines = cv2.HoughLines(bin_img,1,np.pi/180,hough_threshold)\n",
    "                    hough_threshold-=10\n",
    "                    if hough_threshold < 0:\n",
    "                        break\n",
    "                if hough_threshold < 0:\n",
    "                    break\n",
    "\n",
    "                if len(lines) == 1:\n",
    "                    lines = cv2.HoughLines(bin_img,1,np.pi/180,hough_threshold)\n",
    "                xy_line = []\n",
    "\n",
    "                for line in lines:\n",
    "                    r, theta = line[0]\n",
    "                    a = np.cos(theta)\n",
    "                    b = np.sin(theta)\n",
    "                    x0 = a*r\n",
    "                    y0 = b*r\n",
    "                    x1 = int(x0 + 1000*(-b))\n",
    "                    y1 = int(y0 + 1000*a)\n",
    "                    x2 = int(x0 - 1000*(-b))\n",
    "                    y2 = int(y0 - 1000*a)\n",
    "                    xy_line.append([x1,y1,x2,y2])\n",
    "\n",
    "                segmented = segment_by_angle_kmeans(lines)\n",
    "                intersections = segmented_intersections(segmented)\n",
    "\n",
    "                if not intersections:\n",
    "                    cen = [160,120]\n",
    "                else:\n",
    "                    inters = np.array(intersections)\n",
    "                    inters = inters.reshape(inters.shape[0],-1)\n",
    "                    inters = inters[(inters[:,0]<320) & (inters[:,1]<240) & (inters[:,0] > 0)  & (inters[:,1] > 0) ]\n",
    "                    if len(inters) > 1:\n",
    "                        clf = KMeans(n_clusters=2)\n",
    "                        clf.fit(inters)\n",
    "                        labels = clf.labels_\n",
    "                        cen = list()\n",
    "\n",
    "                        for _ in np.unique(labels):\n",
    "                            cell = inters[labels == _ ]\n",
    "                            cell = np.mean(cell,axis=0).astype('int')\n",
    "                            cen.append(cell)\n",
    "\n",
    "                        cen = np.array(cen).mean(axis=0).astype('int')\n",
    "    #                     cen = inters.reshape(inters.shape[2])\n",
    "                    else:\n",
    "                        cen = [160,120]\n",
    "            \n",
    "                label_img = seg_label.reshape((result_image.shape[:2]))\n",
    "                lab = np.argmin(np.mean(center, axis=1))\n",
    "                t= np.arange(-np.pi,np.pi, 0.1)\n",
    "                x= 1000*np.sin(t)\n",
    "                y= 1000*np.cos(t)\n",
    "                a = y/x\n",
    "                b = y - a*x\n",
    "                k = []\n",
    "\n",
    "\n",
    "                dst2 = img.copy()\n",
    "\n",
    "                for a1,b1 in zip(a,b):\n",
    "\n",
    "                    i_r = np.arange(0,240)\n",
    "                    i_c = np.array([(num - cen[1] - b1)/a1 + cen[0] for num in i_r])\n",
    "                    i_r = i_r[np.where((i_c > 0) & (i_c < 320))]\n",
    "                    i_c = i_c[np.where((i_c > 0) & (i_c < 320))]\n",
    "                    k.append(np.sum([label_img[int(r),int(c)] == lab  for r,c in zip(i_r, i_c)]))\n",
    "\n",
    "                k = np.array(k)\n",
    "                inde = np.argmax(k)\n",
    "                i_r = np.arange(0,320)\n",
    "                i_c = np.array([a[inde]*(num - cen[0]) +b[inde]+ cen[1] for num in i_r])\n",
    "                i_r = i_r[np.where((i_c > 0) & (i_c < 240))]\n",
    "                i_c = i_c[np.where((i_c > 0) & (i_c < 240))]\n",
    "                random_sam = i_r[[label_img[int(c),int(r)] == lab  for r,c in zip(i_r, i_c)]]\n",
    "                try:\n",
    "                    four = np.percentile(random_sam,[ 14, 38, 62, 86], interpolation = 'nearest')\n",
    "                except:\n",
    "                    break\n",
    "                count = 1\n",
    "            else:\n",
    "                img = cv2.inpaint(frame, mask, 3, cv2.INPAINT_NS)\n",
    "                \n",
    "            hsv = cv2.cvtColor(img, cv2.COLOR_BGR2HSV)\n",
    "            h, s, v = cv2.split(hsv)\n",
    "            v_value = []\n",
    "            for fo in four:\n",
    "                co = i_c[i_r == fo]\n",
    "\n",
    "                roi = v[int(co)-7:int(co)+7, fo-7:fo+7]\n",
    "                v_value.append(np.mean(roi))\n",
    "                \n",
    "            if not v_value:\n",
    "                break\n",
    "            r1 = abs(v_value[0] - v_value[1])\n",
    "            r2 = abs(v_value[0] - v_value[2])\n",
    "            r3 = abs(v_value[0] - v_value[3])\n",
    "            r4 = abs(v_value[1] - v_value[2])\n",
    "            r5 = abs(v_value[1] - v_value[3])\n",
    "            r6 = abs(v_value[2] - v_value[3])\n",
    "                \n",
    "            rr.append(np.array([r1,r2,r3,r4,r5,r6]))\n",
    "            pattern.append(np.array(v_value))\n",
    "        if frameId > 50:\n",
    "            video.append(pattern)\n",
    "            roi6.append(rr)\n",
    "            label.append(total.loc[i,['강수15','fog', 'weather','sunny']])\n",
    "            break"
   ]
  },
  {
   "cell_type": "code",
   "execution_count": 120,
   "metadata": {},
   "outputs": [],
   "source": [
    "from sklearn.model_selection import StratifiedShuffleSplit\n",
    "\n",
    "label1 = pd.DataFrame(label)\n",
    "video = np.array(video)\n",
    "\n",
    "split = StratifiedShuffleSplit(n_splits=1, test_size=0.2, random_state=1)\n",
    "\n",
    "for train_idx, test_idx in split.split(video, label1['fog']):\n",
    "    X_train = roi6[train_idx]\n",
    "    X_test = v[test_idx]\n",
    "    y_train = label1.iloc[train_idx]['fog']\n",
    "    y_test = label1.iloc[test_idx]['fog']"
   ]
  },
  {
   "cell_type": "code",
   "execution_count": 133,
   "metadata": {},
   "outputs": [
    {
     "data": {
      "text/plain": [
       "array([[47.99489796, 44.99489796, 50.7244898 , 52.26020408],\n",
       "       [48.00510204, 44.99489796, 50.7244898 , 52.26020408],\n",
       "       [48.00510204, 44.99489796, 50.7244898 , 52.38265306],\n",
       "       [48.00510204, 44.99489796, 50.7244898 , 52.3877551 ],\n",
       "       [48.02040816, 45.07142857, 50.7244898 , 52.41836735],\n",
       "       [48.02040816, 45.07142857, 50.7244898 , 52.41836735],\n",
       "       [48.02040816, 45.07142857, 50.7244898 , 52.41836735],\n",
       "       [48.02040816, 45.07142857, 50.7244898 , 52.41836735],\n",
       "       [48.02040816, 45.07142857, 50.7244898 , 52.41836735],\n",
       "       [48.02040816, 45.07142857, 50.7244898 , 52.41836735],\n",
       "       [48.02040816, 45.07142857, 50.7244898 , 52.41836735],\n",
       "       [48.02040816, 45.07142857, 50.7244898 , 52.41836735],\n",
       "       [48.02040816, 45.07142857, 50.7244898 , 52.51020408],\n",
       "       [48.02040816, 45.07142857, 50.7244898 , 52.51020408],\n",
       "       [47.67346939, 45.82142857, 51.59183673, 52.77040816],\n",
       "       [47.67346939, 45.84183673, 51.59693878, 52.77040816],\n",
       "       [47.67346939, 45.84183673, 52.39285714, 52.77040816],\n",
       "       [47.65816327, 45.95408163, 51.59693878, 52.77040816],\n",
       "       [47.65816327, 45.95408163, 52.39285714, 52.77040816],\n",
       "       [47.65816327, 45.95408163, 51.59693878, 52.77040816],\n",
       "       [47.65816327, 45.95408163, 52.39285714, 52.77040816],\n",
       "       [47.65816327, 45.9744898 , 51.59693878, 52.77040816],\n",
       "       [47.65816327, 45.9744898 , 52.39285714, 53.07653061],\n",
       "       [47.70918367, 45.9744898 , 51.59693878, 53.18877551],\n",
       "       [47.70918367, 45.9744898 , 52.39285714, 53.26020408],\n",
       "       [47.70918367, 45.9744898 , 51.59693878, 53.26020408],\n",
       "       [46.25      , 45.68877551, 51.10714286, 52.98469388],\n",
       "       [46.25      , 45.63265306, 51.06632653, 53.0255102 ],\n",
       "       [46.25      , 45.63265306, 51.06632653, 53.0255102 ],\n",
       "       [46.24489796, 45.63265306, 51.06632653, 53.0255102 ],\n",
       "       [46.24489796, 45.63265306, 50.85204082, 52.90816327],\n",
       "       [46.24489796, 45.63265306, 51.06632653, 52.90816327],\n",
       "       [46.24489796, 45.63265306, 51.06632653, 52.90816327],\n",
       "       [46.24489796, 45.63265306, 51.06632653, 52.90816327],\n",
       "       [46.27040816, 45.63265306, 51.06632653, 52.90816327],\n",
       "       [46.27040816, 45.63265306, 51.06632653, 52.90816327],\n",
       "       [46.27040816, 45.63265306, 51.06632653, 52.90816327],\n",
       "       [46.27040816, 45.63265306, 51.06632653, 52.90816327],\n",
       "       [46.95918367, 45.45918367, 50.79591837, 52.66836735],\n",
       "       [47.        , 45.45918367, 50.80612245, 52.7244898 ],\n",
       "       [47.        , 45.45918367, 50.80612245, 52.7244898 ],\n",
       "       [47.        , 45.45918367, 50.80612245, 52.7244898 ],\n",
       "       [47.00510204, 45.45408163, 50.80612245, 52.7244898 ],\n",
       "       [47.00510204, 45.45408163, 50.80612245, 52.7244898 ],\n",
       "       [47.00510204, 45.45408163, 50.80612245, 52.73469388],\n",
       "       [47.00510204, 45.45408163, 50.80612245, 52.73469388],\n",
       "       [47.00510204, 45.45408163, 50.80612245, 52.73469388],\n",
       "       [47.00510204, 45.45408163, 50.80612245, 52.73469388],\n",
       "       [47.03571429, 45.45408163, 50.80612245, 52.73469388],\n",
       "       [47.03571429, 45.45408163, 50.80612245, 52.73469388],\n",
       "       [46.96428571, 45.46428571, 50.81632653, 53.2244898 ],\n",
       "       [46.95408163, 45.46428571, 50.81632653, 53.2244898 ]])"
      ]
     },
     "execution_count": 133,
     "metadata": {},
     "output_type": "execute_result"
    }
   ],
   "source": [
    "X_train[0]"
   ]
  },
  {
   "cell_type": "code",
   "execution_count": null,
   "metadata": {},
   "outputs": [],
   "source": []
  },
  {
   "cell_type": "code",
   "execution_count": 135,
   "metadata": {},
   "outputs": [
    {
     "data": {
      "text/plain": [
       "(579, 51, 4)"
      ]
     },
     "execution_count": 135,
     "metadata": {},
     "output_type": "execute_result"
    }
   ],
   "source": [
    "x_train_diff = X_train[:,1:] - np.roll(X_train, 1,axis=1)[:,1:]\n",
    "x_train_diff.shape"
   ]
  },
  {
   "cell_type": "code",
   "execution_count": null,
   "metadata": {},
   "outputs": [],
   "source": []
  },
  {
   "cell_type": "code",
   "execution_count": 116,
   "metadata": {},
   "outputs": [],
   "source": [
    "X_set = np.mean(X_train, axis=2) \n",
    "X_set1 = np.mean(X_test, axis=2) "
   ]
  },
  {
   "cell_type": "code",
   "execution_count": 117,
   "metadata": {},
   "outputs": [],
   "source": [
    "train_rain = pd.DataFrame(X_set[y_train == '비'])\n",
    "train_sunny = pd.DataFrame(X_set[y_train == '맑음'])\n",
    "train_fog = pd.DataFrame(X_set[y_train == '안개'])"
   ]
  },
  {
   "cell_type": "code",
   "execution_count": 119,
   "metadata": {},
   "outputs": [
    {
     "data": {
      "text/plain": [
       "<matplotlib.legend.Legend at 0x2324be17e80>"
      ]
     },
     "execution_count": 119,
     "metadata": {},
     "output_type": "execute_result"
    },
    {
     "data": {
      "image/png": "[encoded data removed]",
      "text/plain": [
       "<Figure size 432x288 with 1 Axes>"
      ]
     },
     "metadata": {
      "needs_background": "light"
     },
     "output_type": "display_data"
    }
   ],
   "source": [
    "plt.plot(train_rain.mean())\n",
    "plt.plot(train_sunny.mean())\n",
    "plt.plot(train_fog.mean())\n",
    "\n",
    "plt.plot(X_set1[1])\n",
    "plt.legend(['비','안개','맑음','비 test'])\n"
   ]
  },
  {
   "cell_type": "code",
   "execution_count": 98,
   "metadata": {},
   "outputs": [
    {
     "data": {
      "text/plain": [
       "array([ 9.40306122,  9.2755102 ,  9.24489796,  9.13265306,  8.65816327,\n",
       "        9.18367347,  9.09183673,  9.13265306,  9.14795918,  9.08673469,\n",
       "        9.31632653,  9.39795918,  9.44387755,  9.51020408,  9.41836735,\n",
       "        9.41326531,  9.38265306,  9.42346939,  9.26020408,  8.46428571,\n",
       "        9.37755102,  8.68367347,  8.92346939,  8.71938776,  8.80612245,\n",
       "        8.73469388,  8.73469388,  8.75      ,  8.77040816,  8.66836735,\n",
       "        8.75510204,  8.73979592,  9.43367347,  8.78061224,  8.64285714,\n",
       "        8.65306122,  8.39285714,  8.45408163,  8.44897959,  8.55102041,\n",
       "        8.55102041,  9.03061224,  9.06122449,  9.03061224,  9.06632653,\n",
       "        9.05102041,  9.6377551 , 11.19387755,  9.07653061, 10.41836735,\n",
       "        9.03571429,  8.80612245,  8.80612245,  9.41326531])"
      ]
     },
     "execution_count": 98,
     "metadata": {},
     "output_type": "execute_result"
    }
   ],
   "source": [
    "X_set1[0]"
   ]
  },
  {
   "cell_type": "code",
   "execution_count": 99,
   "metadata": {},
   "outputs": [],
   "source": [
    "m_r = train_rain.mean()\n",
    "m_s = train_sunny.mean()\n",
    "m_f = train_fog.mean()"
   ]
  },
  {
   "cell_type": "code",
   "execution_count": 100,
   "metadata": {},
   "outputs": [],
   "source": [
    "pred = []\n",
    "for row in X_set1:\n",
    "    dis_rain = np.mean(np.abs(row - m_r))\n",
    "    dis_sunny = np.mean(np.abs(row - m_s))\n",
    "    dis_fog = np.mean(np.abs(row - m_f))\n",
    "    \n",
    "    min_dis = min(dis_rain, dis_sunny, dis_fog)\n",
    "    if min_dis == dis_rain:\n",
    "        pred.append('비')\n",
    "    elif min_dis == dis_fog:\n",
    "        pred.append('안개')\n",
    "    elif min_dis == dis_sunny:\n",
    "        pred.append('맑음')\n",
    "        \n",
    "    else:\n",
    "        pred.append('None')"
   ]
  },
  {
   "cell_type": "code",
   "execution_count": 101,
   "metadata": {},
   "outputs": [
    {
     "data": {
      "text/plain": [
       "0.40425531914893614"
      ]
     },
     "execution_count": 101,
     "metadata": {},
     "output_type": "execute_result"
    }
   ],
   "source": [
    "np.mean(np.equal(pred, np.array(y_test)))"
   ]
  },
  {
   "cell_type": "code",
   "execution_count": 67,
   "metadata": {},
   "outputs": [
    {
     "data": {
      "text/plain": [
       "array(['None', '맑음', '비', '안개'], dtype='<U4')"
      ]
     },
     "execution_count": 67,
     "metadata": {},
     "output_type": "execute_result"
    }
   ],
   "source": [
    "np.unique(pred)"
   ]
  },
  {
   "cell_type": "code",
   "execution_count": 44,
   "metadata": {},
   "outputs": [
    {
     "data": {
      "text/plain": [
       "84"
      ]
     },
     "execution_count": 44,
     "metadata": {},
     "output_type": "execute_result"
    }
   ],
   "source": [
    "len(np.mean(train_rain, axis = 1))"
   ]
  },
  {
   "cell_type": "code",
   "execution_count": 31,
   "metadata": {},
   "outputs": [
    {
     "data": {
      "text/plain": [
       "array([0, 1], dtype=int64)"
      ]
     },
     "execution_count": 31,
     "metadata": {},
     "output_type": "execute_result"
    }
   ],
   "source": [
    "label1.sunny.unique()"
   ]
  },
  {
   "cell_type": "code",
   "execution_count": 20,
   "metadata": {},
   "outputs": [
    {
     "data": {
      "image/png": "[encoded data removed]",
      "text/plain": [
       "<Figure size 720x720 with 4 Axes>"
      ]
     },
     "metadata": {
      "needs_background": "light"
     },
     "output_type": "display_data"
    }
   ],
   "source": [
    "import seaborn as sns\n",
    "import matplotlib.pyplot as plt\n",
    "from matplotlib import font_manager, rc\n",
    "font_name = font_manager.FontProperties(fname=\"c:/Windows/Fonts/malgun.ttf\").get_name()\n",
    "\n",
    "rc('font', family=font_name)\n",
    "label_col = all_data.columns[3:7]\n",
    "plt.figure(figsize = (10,10))\n",
    "for _ , i in enumerate(label_col):\n",
    "    plt.subplot(2,2, _+1)\n",
    "    sns.countplot(x = i ,data=total)\n",
    "    plt.title(i)\n",
    "    plt.xlabel('')"
   ]
  },
  {
   "cell_type": "code",
   "execution_count": null,
   "metadata": {},
   "outputs": [],
   "source": [
    "from scipy.cluster.hierarchy import dendrogram, linkage\n",
    "from matplotlib import pyplot as plt\n",
    "\n",
    "linked = linkage(X, 'single')"
   ]
  }
 ],
 "metadata": {
  "kernelspec": {
   "display_name": "Python 3.6.9 64-bit ('py37': conda)",
   "language": "python",
   "name": "python36964bitpy37condaee5088d21e304dbb804490c154aa1500"
  },
  "language_info": {
   "codemirror_mode": {
    "name": "ipython",
    "version": 3
   },
   "file_extension": ".py",
   "mimetype": "text/x-python",
   "name": "python",
   "nbconvert_exporter": "python",
   "pygments_lexer": "ipython3",
   "version": "3.6.9"
  }
 },
 "nbformat": 4,
 "nbformat_minor": 2
}
